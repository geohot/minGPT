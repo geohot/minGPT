{
 "cells": [
  {
   "cell_type": "code",
   "execution_count": 35,
   "metadata": {},
   "outputs": [],
   "source": [
    "import torch\n",
    "import numpy as np"
   ]
  },
  {
   "cell_type": "code",
   "execution_count": 36,
   "metadata": {},
   "outputs": [
    {
     "data": {
      "text/plain": [
       "<All keys matched successfully>"
      ]
     },
     "execution_count": 36,
     "metadata": {},
     "output_type": "execute_result"
    }
   ],
   "source": [
    "from mingpt.model import GPT, GPTConfig                                                                                                               \n",
    "mconf = GPTConfig(98, 128,\n",
    "                  n_layer=8, n_head=8, n_embd=512)                                                                                                    \n",
    "model = GPT(mconf)\n",
    "model.load_state_dict(torch.load(\"/tmp/pygpt\"))"
   ]
  },
  {
   "cell_type": "code",
   "execution_count": 37,
   "metadata": {},
   "outputs": [],
   "source": [
    "from mingpt.utils import sample"
   ]
  },
  {
   "cell_type": "code",
   "execution_count": 38,
   "metadata": {},
   "outputs": [],
   "source": [
    "charset = ''.join(sorted(list(set(open(\"/raid.dell2/pygpt/pydata_test.txt\").read(1024*1024*4)))))\n",
    "encode = lambda x: [charset.index(c) for c in x]\n",
    "decode = lambda x: [charset[c] for c in x]"
   ]
  },
  {
   "cell_type": "code",
   "execution_count": 39,
   "metadata": {},
   "outputs": [
    {
     "name": "stdout",
     "output_type": "stream",
     "text": [
      "import gradies\n",
      "from pytz.exceptions import AmbiguousTimeError, NonExistentTimeError\n",
      "\n",
      "__all__ = [\n",
      "    __medi\n"
     ]
    }
   ],
   "source": [
    "start = \"import \"\n",
    "out = sample(model, torch.tensor([encode(start)]), 100).cpu().numpy()[0]\n",
    "outs = ''.join(decode(out))\n",
    "print(outs)"
   ]
  },
  {
   "cell_type": "code",
   "execution_count": null,
   "metadata": {},
   "outputs": [],
   "source": []
  },
  {
   "cell_type": "code",
   "execution_count": null,
   "metadata": {},
   "outputs": [],
   "source": []
  }
 ],
 "metadata": {
  "kernelspec": {
   "display_name": "Python 3",
   "language": "python",
   "name": "python3"
  },
  "language_info": {
   "codemirror_mode": {
    "name": "ipython",
    "version": 3
   },
   "file_extension": ".py",
   "mimetype": "text/x-python",
   "name": "python",
   "nbconvert_exporter": "python",
   "pygments_lexer": "ipython3",
   "version": "3.8.2"
  }
 },
 "nbformat": 4,
 "nbformat_minor": 4
}
